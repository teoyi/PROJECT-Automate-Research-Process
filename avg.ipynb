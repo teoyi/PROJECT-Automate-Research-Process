{
 "metadata": {
  "language_info": {
   "codemirror_mode": {
    "name": "ipython",
    "version": 3
   },
   "file_extension": ".py",
   "mimetype": "text/x-python",
   "name": "python",
   "nbconvert_exporter": "python",
   "pygments_lexer": "ipython3",
   "version": "3.8.3-final"
  },
  "orig_nbformat": 2,
  "kernelspec": {
   "name": "python3",
   "display_name": "Python 3.8.3 64-bit ('anaconda3': virtualenv)",
   "metadata": {
    "interpreter": {
     "hash": "a341a20733a12f8f6f8308d8372490ae5854d3694d6dfc398ec18c91c5bf5fd5"
    }
   }
  }
 },
 "nbformat": 4,
 "nbformat_minor": 2,
 "cells": [
  {
   "cell_type": "code",
   "execution_count": 1,
   "metadata": {},
   "outputs": [],
   "source": [
    "import numpy as np \n",
    "import matplotlib.pyplot as plt \n",
    "import pandas as pd \n",
    "import os\n",
    "import os.path\n",
    "from scipy.optimize import curve_fit\n",
    "import shutil"
   ]
  },
  {
   "cell_type": "code",
   "execution_count": 2,
   "metadata": {},
   "outputs": [
    {
     "output_type": "execute_result",
     "data": {
      "text/plain": [
       "'/Users/luke/Desktop/python_project/GitClone/Automate-Research-Process'"
      ]
     },
     "metadata": {},
     "execution_count": 2
    }
   ],
   "source": [
    "os.getcwd()"
   ]
  },
  {
   "cell_type": "code",
   "execution_count": 3,
   "metadata": {},
   "outputs": [
    {
     "output_type": "stream",
     "name": "stdout",
     "text": [
      "[['202_p18_n1_x100_x_IT_10_', 5], ['202_p20_n1_x100_x_IT_10_', 5], ['202_p6_n1_x100_x_IT_10_', 5], ['202_p10_n1_x100_x_IT_10_', 5], ['202_p4_n1_x100_x_IT_10_', 5], ['202_p12_n1_x100_x_IT_10_', 5], ['202_p16_n1_x100_x_IT_10_', 5], ['202_p2_n1_x100_x_IT_10_', 5], ['202_p14_n1_x100_x_IT_10_', 5], ['202_p8_n1_x100_x_IT_10_', 5], ['202_p4_n1_x100_x_IT_1_', 2], ['202_p2_n1_x100_x_IT_1_', 2], ['202_p16_n1_x100_x_IT_1_', 2], ['202_p6_n1_x100_x_IT_1_', 2]]\n"
     ]
    }
   ],
   "source": [
    "# Loading file, and obtaining long name components \n",
    "path = \"./avgtest\"\n",
    "data_file = os.listdir(path) # Create a list of all files in the folder\n",
    "\n",
    "longNames = [] \n",
    "files_dict = {} \n",
    "for files in data_file: \n",
    "    if files[-4:] == '.csv':\n",
    "        key = files[:-5]\n",
    "        files_dict.setdefault(key, [])\n",
    "        files_dict[key].append(files)\n",
    "\n",
    "tb_avg = [] # To be averaged -> file names \n",
    "for key, value in files_dict.items(): \n",
    "    if len(value) > 1: \n",
    "        tb_avg.append([key,len(value)])\n",
    "\n",
    "# We know it starts A, B, C, D ,E. 5 maximum \n",
    "end = ['A.csv', 'B.csv', 'C.csv', 'D.csv', 'E.csv']\n",
    "    \n",
    "print(tb_avg)"
   ]
  },
  {
   "cell_type": "code",
   "execution_count": 4,
   "metadata": {},
   "outputs": [
    {
     "output_type": "stream",
     "name": "stdout",
     "text": [
      "Directory  averaged_data  already exists\nRecreating directory...\n"
     ]
    }
   ],
   "source": [
    "# Making a new file within the folder that contains all the data\n",
    "os.chdir(path)\n",
    "dirName = 'averaged_data'\n",
    "\n",
    "# Making new directory to put processed data \n",
    "if not os.path.exists(dirName):\n",
    "    os.mkdir(dirName)\n",
    "    print(\"Directory \" , dirName ,  \" Created \")\n",
    "else:    \n",
    "    print(\"Directory \" , dirName ,  \" already exists\")\n",
    "    print(\"Recreating directory...\")\n",
    "    shutil.rmtree(dirName)\n",
    "    os.mkdir(dirName)"
   ]
  },
  {
   "cell_type": "code",
   "execution_count": 8,
   "metadata": {},
   "outputs": [
    {
     "output_type": "stream",
     "name": "stdout",
     "text": [
      "['202_p18_n1_x100_x_IT_10_A.csv', '202_p18_n1_x100_x_IT_10_B.csv', '202_p18_n1_x100_x_IT_10_C.csv', '202_p18_n1_x100_x_IT_10_D.csv', '202_p18_n1_x100_x_IT_10_E.csv']\n['202_p20_n1_x100_x_IT_10_A.csv', '202_p20_n1_x100_x_IT_10_B.csv', '202_p20_n1_x100_x_IT_10_C.csv', '202_p20_n1_x100_x_IT_10_D.csv', '202_p20_n1_x100_x_IT_10_E.csv']\n['202_p6_n1_x100_x_IT_10_A.csv', '202_p6_n1_x100_x_IT_10_B.csv', '202_p6_n1_x100_x_IT_10_C.csv', '202_p6_n1_x100_x_IT_10_D.csv', '202_p6_n1_x100_x_IT_10_E.csv']\n['202_p10_n1_x100_x_IT_10_A.csv', '202_p10_n1_x100_x_IT_10_B.csv', '202_p10_n1_x100_x_IT_10_C.csv', '202_p10_n1_x100_x_IT_10_D.csv', '202_p10_n1_x100_x_IT_10_E.csv']\n['202_p4_n1_x100_x_IT_10_A.csv', '202_p4_n1_x100_x_IT_10_B.csv', '202_p4_n1_x100_x_IT_10_C.csv', '202_p4_n1_x100_x_IT_10_D.csv', '202_p4_n1_x100_x_IT_10_E.csv']\n['202_p12_n1_x100_x_IT_10_A.csv', '202_p12_n1_x100_x_IT_10_B.csv', '202_p12_n1_x100_x_IT_10_C.csv', '202_p12_n1_x100_x_IT_10_D.csv', '202_p12_n1_x100_x_IT_10_E.csv']\n['202_p16_n1_x100_x_IT_10_A.csv', '202_p16_n1_x100_x_IT_10_B.csv', '202_p16_n1_x100_x_IT_10_C.csv', '202_p16_n1_x100_x_IT_10_D.csv', '202_p16_n1_x100_x_IT_10_E.csv']\n['202_p2_n1_x100_x_IT_10_A.csv', '202_p2_n1_x100_x_IT_10_B.csv', '202_p2_n1_x100_x_IT_10_C.csv', '202_p2_n1_x100_x_IT_10_D.csv', '202_p2_n1_x100_x_IT_10_E.csv']\n['202_p14_n1_x100_x_IT_10_A.csv', '202_p14_n1_x100_x_IT_10_B.csv', '202_p14_n1_x100_x_IT_10_C.csv', '202_p14_n1_x100_x_IT_10_D.csv', '202_p14_n1_x100_x_IT_10_E.csv']\n['202_p8_n1_x100_x_IT_10_A.csv', '202_p8_n1_x100_x_IT_10_B.csv', '202_p8_n1_x100_x_IT_10_C.csv', '202_p8_n1_x100_x_IT_10_D.csv', '202_p8_n1_x100_x_IT_10_E.csv']\n['202_p4_n1_x100_x_IT_1_A.csv', '202_p4_n1_x100_x_IT_1_B.csv']\n['202_p2_n1_x100_x_IT_1_A.csv', '202_p2_n1_x100_x_IT_1_B.csv']\n['202_p16_n1_x100_x_IT_1_A.csv', '202_p16_n1_x100_x_IT_1_B.csv']\n['202_p6_n1_x100_x_IT_1_A.csv', '202_p6_n1_x100_x_IT_1_B.csv']\n"
     ]
    }
   ],
   "source": [
    "for i in np.arange(0, len(tb_avg)): \n",
    "    file_list = [] \n",
    "    for j in np.arange(0, int(tb_avg[i][1])): \n",
    "        file_list.append(tb_avg[i][0] + end[j])\n",
    "    for i in np.arange(0, len(file_list)): \n",
    "        \n",
    "    print(file_list)"
   ]
  },
  {
   "cell_type": "code",
   "execution_count": null,
   "metadata": {},
   "outputs": [],
   "source": []
  }
 ]
}