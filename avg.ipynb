{
 "metadata": {
  "language_info": {
   "codemirror_mode": {
    "name": "ipython",
    "version": 3
   },
   "file_extension": ".py",
   "mimetype": "text/x-python",
   "name": "python",
   "nbconvert_exporter": "python",
   "pygments_lexer": "ipython3",
   "version": "3.8.3-final"
  },
  "orig_nbformat": 2,
  "kernelspec": {
   "name": "python3",
   "display_name": "Python 3.8.3 64-bit ('anaconda3': virtualenv)",
   "metadata": {
    "interpreter": {
     "hash": "a341a20733a12f8f6f8308d8372490ae5854d3694d6dfc398ec18c91c5bf5fd5"
    }
   }
  }
 },
 "nbformat": 4,
 "nbformat_minor": 2,
 "cells": [
  {
   "cell_type": "code",
   "execution_count": 1,
   "metadata": {},
   "outputs": [],
   "source": [
    "import numpy as np \n",
    "import matplotlib.pyplot as plt \n",
    "import pandas as pd \n",
    "import os\n",
    "import os.path\n",
    "from scipy.optimize import curve_fit\n",
    "import shutil"
   ]
  },
  {
   "cell_type": "code",
   "execution_count": 2,
   "metadata": {},
   "outputs": [
    {
     "output_type": "execute_result",
     "data": {
      "text/plain": [
       "'/Users/luke/Desktop/python_project/GitClone/Automate-Research-Process'"
      ]
     },
     "metadata": {},
     "execution_count": 2
    }
   ],
   "source": [
    "os.getcwd()"
   ]
  },
  {
   "cell_type": "code",
   "execution_count": 3,
   "metadata": {},
   "outputs": [
    {
     "output_type": "stream",
     "name": "stdout",
     "text": [
      "[['202_p18_n1_x100_x_IT_10_', 5], ['202_p20_n1_x100_x_IT_10_', 5], ['202_p6_n1_x100_x_IT_10_', 5], ['202_p10_n1_x100_x_IT_10_', 5], ['202_p4_n1_x100_x_IT_10_', 5], ['202_p12_n1_x100_x_IT_10_', 5], ['202_p16_n1_x100_x_IT_10_', 5], ['202_p2_n1_x100_x_IT_10_', 5], ['202_p14_n1_x100_x_IT_10_', 5], ['202_p8_n1_x100_x_IT_10_', 5], ['202_p4_n1_x100_x_IT_1_', 2], ['202_p2_n1_x100_x_IT_1_', 2], ['202_p16_n1_x100_x_IT_1_', 2], ['202_p6_n1_x100_x_IT_1_', 2]]\n"
     ]
    }
   ],
   "source": [
    "# Loading file, and obtaining long name components \n",
    "path = \"./avgtest\"\n",
    "data_file = os.listdir(path) # Create a list of all files in the folder\n",
    "\n",
    "longNames = [] \n",
    "files_dict = {} \n",
    "for files in data_file: \n",
    "    if files[-4:] == '.csv':\n",
    "        key = files[:-5]\n",
    "        files_dict.setdefault(key, [])\n",
    "        files_dict[key].append(files)\n",
    "\n",
    "tb_avg = [] # To be averaged -> file names \n",
    "for key, value in files_dict.items(): \n",
    "    if len(value) > 1: \n",
    "        tb_avg.append([key,len(value)])\n",
    "\n",
    "# We know it starts A, B, C, D ,E. 5 maximum \n",
    "end = ['A.csv', 'B.csv', 'C.csv', 'D.csv', 'E.csv']\n",
    "    \n",
    "print(tb_avg)"
   ]
  },
  {
   "cell_type": "code",
   "execution_count": 4,
   "metadata": {},
   "outputs": [
    {
     "output_type": "stream",
     "name": "stdout",
     "text": [
      "Directory  averaged_data  already exists\nRecreating directory...\n"
     ]
    }
   ],
   "source": [
    "# Making a new file within the folder that contains all the data\n",
    "os.chdir(path)\n",
    "dirName = 'averaged_data'\n",
    "\n",
    "# Making new directory to put processed data \n",
    "if not os.path.exists(dirName):\n",
    "    os.mkdir(dirName)\n",
    "    print(\"Directory \" , dirName ,  \" Created \")\n",
    "else:    \n",
    "    print(\"Directory \" , dirName ,  \" already exists\")\n",
    "    print(\"Recreating directory...\")\n",
    "    shutil.rmtree(dirName)\n",
    "    os.mkdir(dirName)"
   ]
  },
  {
   "cell_type": "code",
   "execution_count": 7,
   "metadata": {},
   "outputs": [
    {
     "output_type": "stream",
     "name": "stdout",
     "text": [
      "                 S2c        S2\nWavelength                    \n1100.0      0.000118  0.000105\n1110.0      0.000179  0.000162\n1120.0      0.000120  0.000110\n1130.0      0.000126  0.000117\n1140.0      0.000014  0.000013\n1150.0     -0.000019 -0.000018\n1160.0      0.000160  0.000151\n1170.0      0.000084  0.000079\n1180.0      0.000051  0.000048\n1190.0      0.000060  0.000057\n1200.0      0.000171  0.000161\n1210.0      0.000141  0.000132\n1220.0      0.000088  0.000083\n1230.0      0.000263  0.000246\n1240.0      0.000171  0.000160\n1250.0      0.000167  0.000156\n1260.0      0.000235  0.000220\n1270.0      0.000227  0.000212\n1280.0      0.000193  0.000180\n1290.0      0.000234  0.000220\n1300.0      0.000382  0.000364\n1310.0      0.000372  0.000362\n1320.0      0.000400  0.000397\n1330.0      0.000411  0.000411\n1340.0      0.000477  0.000471\n1350.0      0.000518  0.000498\n1360.0      0.000558  0.000519\n1370.0      0.000594  0.000540\n1380.0      0.000508  0.000456\n1390.0      0.000720  0.000641\n1400.0      0.000777  0.000688\n1410.0      0.000868  0.000768\n1420.0      0.000766  0.000675\n1430.0      0.001032  0.000903\n1440.0      0.001318  0.001138\n1450.0      0.001297  0.001103\n1460.0      0.001650  0.001380\n1470.0      0.001728  0.001417\n1480.0      0.001875  0.001506\n1490.0      0.002115  0.001661\n1500.0      0.002300  0.001768\n                 S2c        S2\nWavelength                    \n1100.0     -0.000209 -0.000186\n1110.0     -0.000232 -0.000210\n1120.0     -0.000173 -0.000159\n1130.0     -0.000047 -0.000043\n1140.0     -0.000068 -0.000064\n1150.0     -0.000201 -0.000189\n1160.0     -0.000204 -0.000192\n1170.0     -0.000313 -0.000296\n1180.0     -0.000140 -0.000133\n1190.0     -0.000144 -0.000136\n1200.0     -0.000146 -0.000138\n1210.0     -0.000003 -0.000002\n1220.0     -0.000080 -0.000075\n1230.0     -0.000055 -0.000052\n1240.0     -0.000037 -0.000034\n1250.0     -0.000020 -0.000018\n1260.0      0.000075  0.000070\n1270.0     -0.000117 -0.000109\n1280.0      0.000002  0.000002\n1290.0      0.000069  0.000065\n1300.0      0.000158  0.000151\n1310.0      0.000151  0.000147\n1320.0      0.000342  0.000339\n1330.0      0.000383  0.000383\n1340.0      0.000353  0.000349\n1350.0      0.000458  0.000441\n1360.0      0.000494  0.000459\n1370.0      0.000484  0.000440\n1380.0      0.000577  0.000517\n1390.0      0.000705  0.000628\n1400.0      0.000828  0.000734\n1410.0      0.000811  0.000717\n1420.0      0.000819  0.000722\n1430.0      0.001092  0.000955\n1440.0      0.001160  0.001002\n1450.0      0.001429  0.001216\n1460.0      0.001724  0.001442\n1470.0      0.001864  0.001528\n1480.0      0.001901  0.001527\n1490.0      0.002316  0.001819\n1500.0      0.002683  0.002062\n                 S2c        S2\nWavelength                    \n1100.0      0.000973  0.000866\n1110.0      0.001001  0.000906\n1120.0      0.001033  0.000948\n1130.0      0.001025  0.000951\n1140.0      0.000961  0.000899\n1150.0      0.001018  0.000958\n1160.0      0.000940  0.000888\n1170.0      0.001004  0.000948\n1180.0      0.001004  0.000947\n1190.0      0.001023  0.000963\n1200.0      0.000976  0.000916\n1210.0      0.001031  0.000966\n1220.0      0.001032  0.000966\n1230.0      0.000994  0.000929\n1240.0      0.001141  0.001066\n1250.0      0.001060  0.000990\n1260.0      0.001030  0.000962\n1270.0      0.001115  0.001041\n1280.0      0.001011  0.000944\n1290.0      0.001103  0.001036\n1300.0      0.001140  0.001087\n1310.0      0.001218  0.001184\n1320.0      0.001155  0.001144\n1330.0      0.001087  0.001087\n1340.0      0.001220  0.001206\n1350.0      0.001362  0.001309\n1360.0      0.001333  0.001240\n1370.0      0.001393  0.001267\n1380.0      0.001347  0.001208\n1390.0      0.001479  0.001317\n1400.0      0.001411  0.001249\n1410.0      0.001469  0.001299\n1420.0      0.001623  0.001430\n1430.0      0.001654  0.001447\n1440.0      0.001776  0.001534\n1450.0      0.001812  0.001541\n1460.0      0.002150  0.001798\n1470.0      0.002182  0.001789\n1480.0      0.002247  0.001804\n1490.0      0.002386  0.001874\n1500.0      0.002591  0.001991\n"
     ]
    },
    {
     "output_type": "error",
     "ename": "KeyError",
     "evalue": "\"['Wavelength.1'] not found in axis\"",
     "traceback": [
      "\u001b[0;31m---------------------------------------------------------------------------\u001b[0m",
      "\u001b[0;31mKeyError\u001b[0m                                  Traceback (most recent call last)",
      "\u001b[0;32m<ipython-input-7-ff52e24cbc95>\u001b[0m in \u001b[0;36m<module>\u001b[0;34m\u001b[0m\n\u001b[1;32m      5\u001b[0m         \u001b[0mfile_list\u001b[0m\u001b[0;34m.\u001b[0m\u001b[0mappend\u001b[0m\u001b[0;34m(\u001b[0m\u001b[0mtb_avg\u001b[0m\u001b[0;34m[\u001b[0m\u001b[0mi\u001b[0m\u001b[0;34m]\u001b[0m\u001b[0;34m[\u001b[0m\u001b[0;36m0\u001b[0m\u001b[0;34m]\u001b[0m \u001b[0;34m+\u001b[0m \u001b[0mend\u001b[0m\u001b[0;34m[\u001b[0m\u001b[0mj\u001b[0m\u001b[0;34m]\u001b[0m\u001b[0;34m)\u001b[0m\u001b[0;34m\u001b[0m\u001b[0;34m\u001b[0m\u001b[0m\n\u001b[1;32m      6\u001b[0m     \u001b[0mworking\u001b[0m \u001b[0;34m=\u001b[0m \u001b[0mpd\u001b[0m\u001b[0;34m.\u001b[0m\u001b[0mconcat\u001b[0m\u001b[0;34m(\u001b[0m\u001b[0;34m[\u001b[0m\u001b[0mpd\u001b[0m\u001b[0;34m.\u001b[0m\u001b[0mread_csv\u001b[0m\u001b[0;34m(\u001b[0m\u001b[0mf\u001b[0m\u001b[0;34m)\u001b[0m \u001b[0;32mfor\u001b[0m \u001b[0mf\u001b[0m \u001b[0;32min\u001b[0m \u001b[0mfile_list\u001b[0m\u001b[0;34m]\u001b[0m\u001b[0;34m,\u001b[0m \u001b[0mignore_index\u001b[0m\u001b[0;34m=\u001b[0m\u001b[0;32mFalse\u001b[0m\u001b[0;34m,\u001b[0m \u001b[0maxis\u001b[0m \u001b[0;34m=\u001b[0m \u001b[0;36m0\u001b[0m\u001b[0;34m)\u001b[0m\u001b[0;34m\u001b[0m\u001b[0;34m\u001b[0m\u001b[0m\n\u001b[0;32m----> 7\u001b[0;31m     \u001b[0mworking\u001b[0m \u001b[0;34m=\u001b[0m \u001b[0mworking\u001b[0m\u001b[0;34m.\u001b[0m\u001b[0mdrop\u001b[0m\u001b[0;34m(\u001b[0m\u001b[0;34m[\u001b[0m\u001b[0;34m'Wavelength.1'\u001b[0m\u001b[0;34m]\u001b[0m\u001b[0;34m,\u001b[0m \u001b[0maxis\u001b[0m\u001b[0;34m=\u001b[0m\u001b[0;36m1\u001b[0m\u001b[0;34m)\u001b[0m\u001b[0;34m\u001b[0m\u001b[0;34m\u001b[0m\u001b[0m\n\u001b[0m\u001b[1;32m      8\u001b[0m     \u001b[0mworking\u001b[0m \u001b[0;34m=\u001b[0m \u001b[0mworking\u001b[0m\u001b[0;34m.\u001b[0m\u001b[0mdrop\u001b[0m\u001b[0;34m(\u001b[0m\u001b[0mindex\u001b[0m\u001b[0;34m=\u001b[0m\u001b[0;36m0\u001b[0m\u001b[0;34m)\u001b[0m\u001b[0;34m\u001b[0m\u001b[0;34m\u001b[0m\u001b[0m\n\u001b[1;32m      9\u001b[0m     \u001b[0mworking\u001b[0m \u001b[0;34m=\u001b[0m \u001b[0mworking\u001b[0m\u001b[0;34m.\u001b[0m\u001b[0mastype\u001b[0m\u001b[0;34m(\u001b[0m\u001b[0;34m'float64'\u001b[0m\u001b[0;34m)\u001b[0m\u001b[0;34m\u001b[0m\u001b[0;34m\u001b[0m\u001b[0m\n",
      "\u001b[0;32m~/opt/anaconda3/lib/python3.8/site-packages/pandas/core/frame.py\u001b[0m in \u001b[0;36mdrop\u001b[0;34m(self, labels, axis, index, columns, level, inplace, errors)\u001b[0m\n\u001b[1;32m   4158\u001b[0m                 \u001b[0mweight\u001b[0m  \u001b[0;36m1.0\u001b[0m     \u001b[0;36m0.8\u001b[0m\u001b[0;34m\u001b[0m\u001b[0;34m\u001b[0m\u001b[0m\n\u001b[1;32m   4159\u001b[0m         \"\"\"\n\u001b[0;32m-> 4160\u001b[0;31m         return super().drop(\n\u001b[0m\u001b[1;32m   4161\u001b[0m             \u001b[0mlabels\u001b[0m\u001b[0;34m=\u001b[0m\u001b[0mlabels\u001b[0m\u001b[0;34m,\u001b[0m\u001b[0;34m\u001b[0m\u001b[0;34m\u001b[0m\u001b[0m\n\u001b[1;32m   4162\u001b[0m             \u001b[0maxis\u001b[0m\u001b[0;34m=\u001b[0m\u001b[0maxis\u001b[0m\u001b[0;34m,\u001b[0m\u001b[0;34m\u001b[0m\u001b[0;34m\u001b[0m\u001b[0m\n",
      "\u001b[0;32m~/opt/anaconda3/lib/python3.8/site-packages/pandas/core/generic.py\u001b[0m in \u001b[0;36mdrop\u001b[0;34m(self, labels, axis, index, columns, level, inplace, errors)\u001b[0m\n\u001b[1;32m   3876\u001b[0m         \u001b[0;32mfor\u001b[0m \u001b[0maxis\u001b[0m\u001b[0;34m,\u001b[0m \u001b[0mlabels\u001b[0m \u001b[0;32min\u001b[0m \u001b[0maxes\u001b[0m\u001b[0;34m.\u001b[0m\u001b[0mitems\u001b[0m\u001b[0;34m(\u001b[0m\u001b[0;34m)\u001b[0m\u001b[0;34m:\u001b[0m\u001b[0;34m\u001b[0m\u001b[0;34m\u001b[0m\u001b[0m\n\u001b[1;32m   3877\u001b[0m             \u001b[0;32mif\u001b[0m \u001b[0mlabels\u001b[0m \u001b[0;32mis\u001b[0m \u001b[0;32mnot\u001b[0m \u001b[0;32mNone\u001b[0m\u001b[0;34m:\u001b[0m\u001b[0;34m\u001b[0m\u001b[0;34m\u001b[0m\u001b[0m\n\u001b[0;32m-> 3878\u001b[0;31m                 \u001b[0mobj\u001b[0m \u001b[0;34m=\u001b[0m \u001b[0mobj\u001b[0m\u001b[0;34m.\u001b[0m\u001b[0m_drop_axis\u001b[0m\u001b[0;34m(\u001b[0m\u001b[0mlabels\u001b[0m\u001b[0;34m,\u001b[0m \u001b[0maxis\u001b[0m\u001b[0;34m,\u001b[0m \u001b[0mlevel\u001b[0m\u001b[0;34m=\u001b[0m\u001b[0mlevel\u001b[0m\u001b[0;34m,\u001b[0m \u001b[0merrors\u001b[0m\u001b[0;34m=\u001b[0m\u001b[0merrors\u001b[0m\u001b[0;34m)\u001b[0m\u001b[0;34m\u001b[0m\u001b[0;34m\u001b[0m\u001b[0m\n\u001b[0m\u001b[1;32m   3879\u001b[0m \u001b[0;34m\u001b[0m\u001b[0m\n\u001b[1;32m   3880\u001b[0m         \u001b[0;32mif\u001b[0m \u001b[0minplace\u001b[0m\u001b[0;34m:\u001b[0m\u001b[0;34m\u001b[0m\u001b[0;34m\u001b[0m\u001b[0m\n",
      "\u001b[0;32m~/opt/anaconda3/lib/python3.8/site-packages/pandas/core/generic.py\u001b[0m in \u001b[0;36m_drop_axis\u001b[0;34m(self, labels, axis, level, errors)\u001b[0m\n\u001b[1;32m   3910\u001b[0m                 \u001b[0mnew_axis\u001b[0m \u001b[0;34m=\u001b[0m \u001b[0maxis\u001b[0m\u001b[0;34m.\u001b[0m\u001b[0mdrop\u001b[0m\u001b[0;34m(\u001b[0m\u001b[0mlabels\u001b[0m\u001b[0;34m,\u001b[0m \u001b[0mlevel\u001b[0m\u001b[0;34m=\u001b[0m\u001b[0mlevel\u001b[0m\u001b[0;34m,\u001b[0m \u001b[0merrors\u001b[0m\u001b[0;34m=\u001b[0m\u001b[0merrors\u001b[0m\u001b[0;34m)\u001b[0m\u001b[0;34m\u001b[0m\u001b[0;34m\u001b[0m\u001b[0m\n\u001b[1;32m   3911\u001b[0m             \u001b[0;32melse\u001b[0m\u001b[0;34m:\u001b[0m\u001b[0;34m\u001b[0m\u001b[0;34m\u001b[0m\u001b[0m\n\u001b[0;32m-> 3912\u001b[0;31m                 \u001b[0mnew_axis\u001b[0m \u001b[0;34m=\u001b[0m \u001b[0maxis\u001b[0m\u001b[0;34m.\u001b[0m\u001b[0mdrop\u001b[0m\u001b[0;34m(\u001b[0m\u001b[0mlabels\u001b[0m\u001b[0;34m,\u001b[0m \u001b[0merrors\u001b[0m\u001b[0;34m=\u001b[0m\u001b[0merrors\u001b[0m\u001b[0;34m)\u001b[0m\u001b[0;34m\u001b[0m\u001b[0;34m\u001b[0m\u001b[0m\n\u001b[0m\u001b[1;32m   3913\u001b[0m             \u001b[0mresult\u001b[0m \u001b[0;34m=\u001b[0m \u001b[0mself\u001b[0m\u001b[0;34m.\u001b[0m\u001b[0mreindex\u001b[0m\u001b[0;34m(\u001b[0m\u001b[0;34m**\u001b[0m\u001b[0;34m{\u001b[0m\u001b[0maxis_name\u001b[0m\u001b[0;34m:\u001b[0m \u001b[0mnew_axis\u001b[0m\u001b[0;34m}\u001b[0m\u001b[0;34m)\u001b[0m\u001b[0;34m\u001b[0m\u001b[0;34m\u001b[0m\u001b[0m\n\u001b[1;32m   3914\u001b[0m \u001b[0;34m\u001b[0m\u001b[0m\n",
      "\u001b[0;32m~/opt/anaconda3/lib/python3.8/site-packages/pandas/core/indexes/base.py\u001b[0m in \u001b[0;36mdrop\u001b[0;34m(self, labels, errors)\u001b[0m\n\u001b[1;32m   5274\u001b[0m         \u001b[0;32mif\u001b[0m \u001b[0mmask\u001b[0m\u001b[0;34m.\u001b[0m\u001b[0many\u001b[0m\u001b[0;34m(\u001b[0m\u001b[0;34m)\u001b[0m\u001b[0;34m:\u001b[0m\u001b[0;34m\u001b[0m\u001b[0;34m\u001b[0m\u001b[0m\n\u001b[1;32m   5275\u001b[0m             \u001b[0;32mif\u001b[0m \u001b[0merrors\u001b[0m \u001b[0;34m!=\u001b[0m \u001b[0;34m\"ignore\"\u001b[0m\u001b[0;34m:\u001b[0m\u001b[0;34m\u001b[0m\u001b[0;34m\u001b[0m\u001b[0m\n\u001b[0;32m-> 5276\u001b[0;31m                 \u001b[0;32mraise\u001b[0m \u001b[0mKeyError\u001b[0m\u001b[0;34m(\u001b[0m\u001b[0;34mf\"{labels[mask]} not found in axis\"\u001b[0m\u001b[0;34m)\u001b[0m\u001b[0;34m\u001b[0m\u001b[0;34m\u001b[0m\u001b[0m\n\u001b[0m\u001b[1;32m   5277\u001b[0m             \u001b[0mindexer\u001b[0m \u001b[0;34m=\u001b[0m \u001b[0mindexer\u001b[0m\u001b[0;34m[\u001b[0m\u001b[0;34m~\u001b[0m\u001b[0mmask\u001b[0m\u001b[0;34m]\u001b[0m\u001b[0;34m\u001b[0m\u001b[0;34m\u001b[0m\u001b[0m\n\u001b[1;32m   5278\u001b[0m         \u001b[0;32mreturn\u001b[0m \u001b[0mself\u001b[0m\u001b[0;34m.\u001b[0m\u001b[0mdelete\u001b[0m\u001b[0;34m(\u001b[0m\u001b[0mindexer\u001b[0m\u001b[0;34m)\u001b[0m\u001b[0;34m\u001b[0m\u001b[0;34m\u001b[0m\u001b[0m\n",
      "\u001b[0;31mKeyError\u001b[0m: \"['Wavelength.1'] not found in axis\""
     ]
    }
   ],
   "source": [
    "final_list = [] \n",
    "for i in np.arange(0, len(tb_avg)): \n",
    "    file_list = [] \n",
    "    for j in np.arange(0, int(tb_avg[i][1])): \n",
    "        file_list.append(tb_avg[i][0] + end[j])\n",
    "    working = pd.concat([pd.read_csv(f) for f in file_list], ignore_index=False, axis = 0)\n",
    "    working = working.drop(['Wavelength.1'], axis=1)\n",
    "    working = working.drop(index=0)\n",
    "    working = working.astype('float64')\n",
    "    #print(working.head())\n",
    "    print(working.groupby(by='Wavelength').mean())\n",
    "    # \n",
    "    \n",
    "    #working = working.groupby(by='Wavelength')\n",
    "    # col = []\n",
    "    # for column in working.columns: \n",
    "    #     col.append(column)\n",
    "\n",
    "    # wl_index = [i for i, x in enumerate(col) if x == \"Wavelength\"]\n",
    "    # S2c_index = [i for i, x in enumerate(col) if x == \"S2c\"] \n",
    "    # S2_index = [i for i, x in enumerate(col) if x == \"S2\"] \n",
    "    # print(working.dtypes)\n",
    "    # print(working.head())\n",
    "    \n",
    "    \n",
    "    # final = pd.DataFrame()\n",
    "    # final['Wavelength'] = working['Wavelength'].mean(axis=1, level=0)\n",
    "    # for i in np.arange(0, len(wl_index)): \n",
    "    #     final['Wavelength'] += working.iloc[:,wl_index[i]]\n",
    "    #     #ow2 = data.iloc [:, [1, 2]]\n",
    "    #print(working['Wavelength'].groupby(by='Wavelength'))\n",
    "    # print(final)\n",
    "    # print(file_list)\n",
    "    # print(working.head())\n"
   ]
  },
  {
   "cell_type": "code",
   "execution_count": null,
   "metadata": {},
   "outputs": [],
   "source": []
  }
 ]
}