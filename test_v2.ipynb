{
 "metadata": {
  "language_info": {
   "codemirror_mode": {
    "name": "ipython",
    "version": 3
   },
   "file_extension": ".py",
   "mimetype": "text/x-python",
   "name": "python",
   "nbconvert_exporter": "python",
   "pygments_lexer": "ipython3",
   "version": "3.8.3-final"
  },
  "orig_nbformat": 2,
  "kernelspec": {
   "name": "python3",
   "display_name": "Python 3.8.3 64-bit ('anaconda3': virtualenv)",
   "metadata": {
    "interpreter": {
     "hash": "a341a20733a12f8f6f8308d8372490ae5854d3694d6dfc398ec18c91c5bf5fd5"
    }
   }
  }
 },
 "nbformat": 4,
 "nbformat_minor": 2,
 "cells": [
  {
   "cell_type": "code",
   "execution_count": 1,
   "metadata": {},
   "outputs": [],
   "source": [
    "import numpy as np \n",
    "import matplotlib.pyplot as plt \n",
    "import pandas as pd \n",
    "import os\n",
    "import os.path\n",
    "from scipy.optimize import curve_fit"
   ]
  },
  {
   "cell_type": "code",
   "execution_count": 2,
   "metadata": {},
   "outputs": [
    {
     "output_type": "stream",
     "name": "stdout",
     "text": [
      "The file being used is 174_p200_n1_x_100_10nm_IT_10.csv.\n"
     ]
    }
   ],
   "source": [
    "# Loading file, and obtaining long name components \n",
    "path = \"./testfolder\"\n",
    "data_list = os.listdir(path) # Create a list of all files in the folder\n",
    "\n",
    "current_file = data_list[2]\n",
    "print(f\"The file being used is {current_file}.\")\n",
    "components = current_file.split(\"_\")\n",
    "latticeT = components[0]"
   ]
  },
  {
   "cell_type": "code",
   "execution_count": 3,
   "metadata": {},
   "outputs": [
    {
     "output_type": "stream",
     "name": "stdout",
     "text": [
      "The band gap energy is 0.7435616030790153\n"
     ]
    }
   ],
   "source": [
    "# Constants to be used \n",
    "h = 4.1357 * 10 ** -15 # Plancks constant in eV*s\n",
    "c = 2.99792458 * 10 ** 8 # Speed of light in m/s \n",
    "k = 8.617333262145 * 10 ** -5 # Boltzmann constant in eV/K\n",
    "comp = 0.939162 # Composition for InGaAs, estimated by Peter, solved through Wolfram Alpha \n",
    "\n",
    "# User input \n",
    "wl = 1550*10**-9 # in m, wavelength of LED light\n",
    "T = float(latticeT) + 273.15 # Lattice temperature, K \n",
    "bandE = 0.42+0.625*comp*(5.8/(T+300)-4.19/(T+271))*10**-4 * T**2 * comp - (4.19*10**-4 * T**2)/(T+271) + 0.475*comp**2 # in eV, bandgap energy for InGaAs. \n",
    "print(f\"The band gap energy is {bandE}\")"
   ]
  },
  {
   "cell_type": "code",
   "execution_count": 4,
   "metadata": {},
   "outputs": [],
   "source": [
    "# Creation of dataframe\n",
    "test_df = pd.read_csv(path+f\"/{data_list[2]}\") # For future uses, we will be doing 'for' loop for the entire directory, so there won't be a need to selectively choose the index \n",
    "col = test_df.columns # out: Index(['Wavelength', 'S2c', 'Wavelength.1', 'S2'], dtype='object')\n",
    "\n",
    "# Creating new df to not mess with original \n",
    "new_df = pd.DataFrame() \n",
    "new_df[col[0]] = test_df[col[0]].iloc[1:] # Wavelength, using iloc to remove non numerical value \n",
    "new_df[col[1]] = test_df[col[1]].iloc[1:] # S2c \n",
    "new_df[col[3]] = test_df[col[3]].iloc[1:] # S2\n",
    "new_df = new_df.astype(float) # Converting data values to numeric from strings, prep for parse in plot\n",
    "\n",
    "# Creating additional columns to be used for further calculations \n",
    "new_df['Photon Energy'] = (h*c)/(new_df[col[0]]*10**-9)\n",
    "new_df['Multiplier'] = new_df['S2c']/new_df['S2']\n",
    "\n",
    "# dLambda conversion to dE \n",
    "scale = 1240\n",
    "new_df['dE_Conv S2c'] =  new_df[col[1]] * new_df[col[0]] / scale\n",
    "new_df['dE_Conv S2'] = new_df[col[3]] * new_df[col[0]] / scale"
   ]
  },
  {
   "cell_type": "code",
   "execution_count": 13,
   "metadata": {},
   "outputs": [
    {
     "output_type": "stream",
     "name": "stdout",
     "text": [
      " \nDC-Offset Calculations\n_____________________________________________\n\nInitial Guess Parameters: \n    b = 23.7907522165252\n    c = 270872713.8724462\n\nFinal Fit Parameters: \n    a = 0.0003610166196016698\n    b = 24.128972423328143\n    c = 360880435.0180705\n    \n"
     ]
    }
   ],
   "source": [
    "# Applying curve fit \n",
    "\n",
    "def guess_check(title_str, xdata, ydata): \n",
    "    # Curve fit function: \n",
    "    def first_pass(E, b, c): \n",
    "        return c  * E * np.sqrt(E-bandE) * np.exp(-E*b) # bandE and k are already defined previously \n",
    "\n",
    "    def second_pass(E, a, b, c): \n",
    "        return a + c  * E * np.sqrt(E-bandE) * np.exp(-E*b) \n",
    "\n",
    "    # Curve fit range and weight:\n",
    "    E = np.linspace(np.min(xdata), np.max(xdata), len(xdata))\n",
    "    weight_func = 1/(np.sqrt(np.exp(-E*18)))\n",
    "\n",
    "    popt1, pcov1 = curve_fit(first_pass, xdata, ydata, maxfev = 10000, sigma = weight_func, absolute_sigma=True) \n",
    "    #print(popt1)\n",
    "    p0_b = popt1[0]\n",
    "    p0_c = popt1[1]\n",
    "\n",
    "    popt2, pcov2 = curve_fit(second_pass, xdata, ydata, maxfev = 10000, p0 = [0,p0_b,p0_c], sigma=weight_func, absolute_sigma=True)\n",
    "    #print(popt2)\n",
    "    pfinal_a = popt2[0]\n",
    "    pfinal_b = popt2[1]\n",
    "    pfinal_c = popt2[2] \n",
    "\n",
    "    print(f''' \n",
    "{title_str}\n",
    "_____________________________________________\n",
    "\n",
    "Initial Guess Parameters: \n",
    "    b = {popt1[0]}\n",
    "    c = {popt1[1]}\n",
    "\n",
    "Final Fit Parameters: \n",
    "    a = {popt2[0]}\n",
    "    b = {popt2[1]}\n",
    "    c = {popt2[2]}\n",
    "    ''')\n",
    "    return p0_b, p0_c, pfinal_a, pfinal_b, pfinal_c \n",
    "\n",
    "dc_guessb, dc_guessc, dc_fita, dc_fitb, dc_fitc = guess_check('DC-Offset Calculations', new_df['Photon Energy'],new_df['S2c'])\n"
   ]
  },
  {
   "cell_type": "code",
   "execution_count": 15,
   "metadata": {},
   "outputs": [
    {
     "output_type": "stream",
     "name": "stdout",
     "text": [
      " \nFinal Fit Calculation\n_____________________________________________\n\nInitial Guess Parameters: \n    b = 25.301711705373833\n    c = 1151436053.1493118\n\nFinal Fit Parameters: \n    a = -2.2597369352413784e-05\n    b = 25.283105877392597\n    c = 1133449607.7637398\n    \n458.9830924185124\n"
     ]
    }
   ],
   "source": [
    "# Multiplier Correction \n",
    "new_df['Corrected S2'] = (new_df['dE_Conv S2'] - dc_fita) * new_df['Multiplier']\n",
    "guessb, guessc, final_a, final_b, final_c = guess_check('Final Fit Calculation', new_df['Photon Energy'], new_df['Corrected S2'])\n",
    "e_temp = 1/(k*final_b)\n",
    "print(e_temp)\n"
   ]
  },
  {
   "cell_type": "code",
   "execution_count": null,
   "metadata": {},
   "outputs": [],
   "source": []
  }
 ]
}